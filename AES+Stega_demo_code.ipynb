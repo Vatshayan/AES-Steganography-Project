{
  "nbformat": 4,
  "nbformat_minor": 0,
  "metadata": {
    "colab": {
      "name": "AES+Stega_demo_code.ipynb",
      "provenance": []
    },
    "kernelspec": {
      "name": "python3",
      "display_name": "Python 3"
    },
    "language_info": {
      "name": "python"
    }
  },
  "cells": [
    {
      "cell_type": "code",
      "metadata": {
        "colab": {
          "base_uri": "https://localhost:8080/"
        },
        "id": "bTOkAG4iW6Zg",
        "outputId": "b3ddc1fd-ec1f-4fa8-da09-136e897251ae"
      },
      "source": [
        "pip install pycrypto\n"
      ],
      "execution_count": 1,
      "outputs": [
        {
          "output_type": "stream",
          "text": [
            "Collecting pycrypto\n",
            "\u001b[?25l  Downloading https://files.pythonhosted.org/packages/60/db/645aa9af249f059cc3a368b118de33889219e0362141e75d4eaf6f80f163/pycrypto-2.6.1.tar.gz (446kB)\n",
            "\u001b[K     |████████████████████████████████| 450kB 3.0MB/s \n",
            "\u001b[?25hBuilding wheels for collected packages: pycrypto\n",
            "  Building wheel for pycrypto (setup.py) ... \u001b[?25l\u001b[?25hdone\n",
            "  Created wheel for pycrypto: filename=pycrypto-2.6.1-cp37-cp37m-linux_x86_64.whl size=499931 sha256=6f6dac2d13ba6e0d1b07e562c2be9aef7af7acdb3b6f140f1efa4dc7bc55d0c4\n",
            "  Stored in directory: /root/.cache/pip/wheels/27/02/5e/77a69d0c16bb63c6ed32f5386f33a2809c94bd5414a2f6c196\n",
            "Successfully built pycrypto\n",
            "Installing collected packages: pycrypto\n",
            "Successfully installed pycrypto-2.6.1\n"
          ],
          "name": "stdout"
        }
      ]
    },
    {
      "cell_type": "code",
      "metadata": {
        "id": "xgRO0hA6W7Ox"
      },
      "source": [
        "# AES\n",
        "import hashlib\n",
        "import math\n",
        "import os\n",
        "\n",
        "from Crypto.Cipher import AES"
      ],
      "execution_count": 2,
      "outputs": []
    },
    {
      "cell_type": "code",
      "metadata": {
        "id": "qCoi2ZeAXH2r"
      },
      "source": [
        "# steganogrphy (Image)\n",
        "from PIL import Image\n",
        "import numpy as np"
      ],
      "execution_count": 6,
      "outputs": []
    },
    {
      "cell_type": "code",
      "metadata": {
        "id": "1u3iXxF-W_KB"
      },
      "source": [
        "IV_SIZE = 16 # but in real 128\n",
        "KEY_SIZE = 32 # 256\n",
        "SALT_SIZE = 16 \n",
        "\n",
        "\n",
        "# clearText is your Input or Message\n",
        "clearText = b\"bomb in car\"\n",
        "password = b\"criminals\""
      ],
      "execution_count": 3,
      "outputs": []
    },
    {
      "cell_type": "code",
      "metadata": {
        "id": "hFBNUw6pW9Xv"
      },
      "source": [
        "#encryption\n",
        "\n",
        "salt = os.urandom(SALT_SIZE)\n",
        "\n",
        "derived = hashlib.pbkdf2_hmac('sha256',password, salt , 100000, dklen = IV_SIZE + KEY_SIZE)\n",
        "\n",
        "iv = derived[0:IV_SIZE]\n",
        "key = derived[IV_SIZE:]\n",
        "\n",
        "encrypted = salt + AES.new(key, AES.MODE_CFB, iv ).encrypt(clearText)"
      ],
      "execution_count": 4,
      "outputs": []
    },
    {
      "cell_type": "code",
      "metadata": {
        "colab": {
          "base_uri": "https://localhost:8080/"
        },
        "id": "a4SMybNHXCWB",
        "outputId": "c13eaee0-fc62-4c75-e7d5-b829ea130d7b"
      },
      "source": [
        "print(encrypted)\n"
      ],
      "execution_count": 5,
      "outputs": [
        {
          "output_type": "stream",
          "text": [
            "b\"\\xd8\\xff\\x16|\\xb8.cU\\xecYR\\xd4H1\\xeb'2\\xa2\\xb1\\xcc\\xcc\\t\\\\\\x94m-K\"\n"
          ],
          "name": "stdout"
        }
      ]
    },
    {
      "cell_type": "code",
      "metadata": {
        "id": "licvDJOgXEe4"
      },
      "source": [
        ""
      ],
      "execution_count": null,
      "outputs": []
    },
    {
      "cell_type": "code",
      "metadata": {
        "id": "eUnYd4ssXi4J"
      },
      "source": [
        ""
      ],
      "execution_count": null,
      "outputs": []
    },
    {
      "cell_type": "code",
      "metadata": {
        "id": "HfJQnoGJXi1x"
      },
      "source": [
        ""
      ],
      "execution_count": null,
      "outputs": []
    },
    {
      "cell_type": "markdown",
      "metadata": {
        "id": "X6BpfBEFXsZA"
      },
      "source": [
        "This is just a demo \n",
        "\n",
        "If you want Full Project Code with Report then..\n",
        "\n",
        "#Mail me now at vatshayan007@gmail.com "
      ]
    },
    {
      "cell_type": "code",
      "metadata": {
        "id": "AVOEay6WXizB"
      },
      "source": [
        ""
      ],
      "execution_count": null,
      "outputs": []
    },
    {
      "cell_type": "code",
      "metadata": {
        "id": "UCix1pfoXiwC"
      },
      "source": [
        ""
      ],
      "execution_count": null,
      "outputs": []
    },
    {
      "cell_type": "code",
      "metadata": {
        "id": "bNBXFTlvXitU"
      },
      "source": [
        ""
      ],
      "execution_count": null,
      "outputs": []
    }
  ]
}